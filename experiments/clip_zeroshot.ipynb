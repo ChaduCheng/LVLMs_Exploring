{
 "cells": [
  {
   "cell_type": "code",
   "execution_count": 2,
   "metadata": {},
   "outputs": [
    {
     "name": "stderr",
     "output_type": "stream",
     "text": [
      "/home/ubuntu/anaconda3/envs/llava/lib/python3.10/site-packages/tqdm/auto.py:21: TqdmWarning: IProgress not found. Please update jupyter and ipywidgets. See https://ipywidgets.readthedocs.io/en/stable/user_install.html\n",
      "  from .autonotebook import tqdm as notebook_tqdm\n"
     ]
    },
    {
     "name": "stdout",
     "output_type": "stream",
     "text": [
      "[2023-10-31 02:00:13,619] [INFO] [real_accelerator.py:110:get_accelerator] Setting ds_accelerator to cuda (auto detect)\n",
      "change curr dir to /home/ubuntu/erjia/LLaVA\n"
     ]
    },
    {
     "name": "stderr",
     "output_type": "stream",
     "text": [
      "`text_config_dict` is provided which will be used to initialize `CLIPTextConfig`. The value `text_config[\"id2label\"]` will be overriden.\n",
      "`text_config_dict` is provided which will be used to initialize `CLIPTextConfig`. The value `text_config[\"bos_token_id\"]` will be overriden.\n",
      "`text_config_dict` is provided which will be used to initialize `CLIPTextConfig`. The value `text_config[\"eos_token_id\"]` will be overriden.\n"
     ]
    },
    {
     "data": {
      "text/plain": [
       "'cuda'"
      ]
     },
     "execution_count": 2,
     "metadata": {},
     "output_type": "execute_result"
    }
   ],
   "source": [
    "import os\n",
    "\n",
    "from transformers import CLIPProcessor, CLIPModel\n",
    "\n",
    "import torch\n",
    "from torchvision.datasets import ImageNet\n",
    "\n",
    "from PIL import Image\n",
    "from tqdm import tqdm\n",
    "\n",
    "# 设置新的工作目录 \n",
    "os.chdir('/home/ubuntu/erjia/LLaVA/')\n",
    "print(\"change curr dir to\", os.getcwd())\n",
    "\n",
    "device = \"cuda\" if torch.cuda.is_available() else \"cpu\"\n",
    "\n",
    "# 1. 定义ImageNet标签（1000类）\n",
    "dataset = ImageNet(root='datasets/ImageNet/', split='val')\n",
    "imagenet_labels = ['a photo of ' + label[0] for label in dataset.classes]\n",
    "\n",
    "# 2. 加载CLIP模型和处理器\n",
    "processor = CLIPProcessor.from_pretrained(\"openai/clip-vit-large-patch14-336\")\n",
    "model = CLIPModel.from_pretrained(\"openai/clip-vit-large-patch14-336\")\n",
    "\n",
    "model.to(device)\n",
    "device"
   ]
  },
  {
   "cell_type": "code",
   "execution_count": 5,
   "metadata": {},
   "outputs": [
    {
     "name": "stderr",
     "output_type": "stream",
     "text": [
      "100%|██████████| 998/998 [03:34<00:00,  4.64it/s]"
     ]
    },
    {
     "name": "stdout",
     "output_type": "stream",
     "text": [
      "Zero-shot Accuracy on ImageNet: 28.26%\n"
     ]
    },
    {
     "name": "stderr",
     "output_type": "stream",
     "text": [
      "\n"
     ]
    }
   ],
   "source": [
    "# 3. 零样本分类并计算准确率\n",
    "correct = 0\n",
    "total = 0\n",
    "\n",
    "# 遍历文件夹中的所有文件\n",
    "image_folder = 'images/species-r1'\n",
    "for filename in tqdm(os.listdir(image_folder)):\n",
    "    # 检查文件是否为图片\n",
    "    if filename.endswith(\".jpg\"):  \n",
    "\n",
    "        image_path = os.path.join(image_folder, filename)\n",
    "        \n",
    "        img = Image.open(image_path)\n",
    "        \n",
    "        label = 'a photo of ' + image_path.split('.')[0].split('-')[-2]\n",
    "        mislabel = 'a photo of ' + image_path.split('.')[0].split('-')[-1]\n",
    "\n",
    "        with torch.no_grad():\n",
    "            # 获取文本和图像的特征\n",
    "            text_inputs = processor(images=None, text=imagenet_labels, return_tensors=\"pt\", padding=True, truncation=True).to(device)\n",
    "            image_inputs = processor(images=img, text=None, return_tensors=\"pt\").to(device)\n",
    "\n",
    "            # 获取模型输出\n",
    "            outputs = model(**text_inputs, **image_inputs)\n",
    "            image_features = outputs.image_embeds\n",
    "            text_features = outputs.text_embeds\n",
    "\n",
    "            # 计算相似性分数\n",
    "            similarities = (image_features @ text_features.T) / text_features.norm(dim=-1)\n",
    "            \n",
    "            # 预测\n",
    "            pred = torch.argmax(similarities, dim=-1).item()\n",
    "            correct += (imagenet_labels[pred] == label)\n",
    "            total += 1\n",
    "            \n",
    "accuracy = correct / total\n",
    "print(f\"Zero-shot Accuracy on ImageNet: {accuracy * 100:.2f}%\")"
   ]
  }
 ],
 "metadata": {
  "kernelspec": {
   "display_name": "Python 3.10.13 ('llava')",
   "language": "python",
   "name": "python3"
  },
  "language_info": {
   "codemirror_mode": {
    "name": "ipython",
    "version": 3
   },
   "file_extension": ".py",
   "mimetype": "text/x-python",
   "name": "python",
   "nbconvert_exporter": "python",
   "pygments_lexer": "ipython3",
   "version": "3.10.13"
  },
  "vscode": {
   "interpreter": {
    "hash": "95ee6606f0e6020fb5f78b9bbb1752f4992ceac6ca53c44e595d9f09852b9381"
   }
  }
 },
 "nbformat": 4,
 "nbformat_minor": 2
}
